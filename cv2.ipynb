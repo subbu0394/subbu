{
 "cells": [
  {
   "cell_type": "code",
   "execution_count": 5,
   "metadata": {},
   "outputs": [
    {
     "name": "stdout",
     "output_type": "stream",
     "text": [
      "(628, 1200, 3)\n"
     ]
    }
   ],
   "source": [
    "import cv2\n",
    "img=cv2.imread('C:\\\\Users\\\\naruk\\\\Downloads\\\\django.jpg',1)\n",
    "print(img.shape)"
   ]
  },
  {
   "cell_type": "code",
   "execution_count": 8,
   "metadata": {},
   "outputs": [],
   "source": [
    "import cv2\n",
    "img=cv2.imread('C:\\\\Users\\\\naruk\\\\Downloads\\\\django.jpg',1)\n",
    "cv2.imshow(\"legend\",img)\n",
    "cv2.waitKey(3300)\n",
    "cv2.destroyAllWindows()"
   ]
  },
  {
   "cell_type": "code",
   "execution_count": 2,
   "metadata": {},
   "outputs": [],
   "source": [
    "import cv2\n",
    "img=cv2.imread('C:\\\\Users\\\\naruk\\\\Downloads\\\\django.jpg',1)\n",
    "re=cv2.resize(img,(int(img.shape[1]/2),int(img.shape[0]/2)))\n",
    "cv2.imshow(\"legend\",re)\n",
    "cv2.waitKey(3300)\n",
    "cv2.destroyAllWindows()"
   ]
  },
  {
   "cell_type": "code",
   "execution_count": 13,
   "metadata": {},
   "outputs": [
    {
     "name": "stdout",
     "output_type": "stream",
     "text": [
      "(28, 28)\n"
     ]
    }
   ],
   "source": [
    "import cv2\n",
    "img=cv2.imread('C:\\\\Users\\\\naruk\\\\Downloads\\\\rps\\\\rock\\\\rock01-001.png',0)\n",
    "re=cv2.resize(img,(28,28))\n",
    "print(re.shape)"
   ]
  },
  {
   "cell_type": "code",
   "execution_count": 13,
   "metadata": {},
   "outputs": [
    {
     "name": "stdout",
     "output_type": "stream",
     "text": [
      "<class 'numpy.ndarray'>\n",
      "[[38 18 57 57]]\n"
     ]
    }
   ],
   "source": [
    "import cv2\n",
    "detect=cv2.CascadeClassifier(\"C:\\\\Users\\\\naruk\\\\Downloads\\\\haarcascade_frontalface_default.xml\")\n",
    "img=cv2.imread(\"C:\\\\Users\\\\naruk\\\\Downloads\\\\download.jfif\",1)\n",
    "gray=cv2.cvtColor(img,cv2.COLOR_BGR2GRAY)\n",
    "face=detect.detectMultiScale(img,scaleFactor=1.25,minNeighbors=5)\n",
    "print(type(face))\n",
    "print(face)\n",
    "for (x,y,w,h) in face:\n",
    "    veer=cv2.rectangle(img,(x,y),(x+w,y+h),(0,0,255),2)\n",
    "cv2.imshow(\"legend\",veer)\n",
    "cv2.waitKey(40000)\n",
    "cv2.destroyAllWindows()"
   ]
  },
  {
   "cell_type": "code",
   "execution_count": 1,
   "metadata": {},
   "outputs": [
    {
     "name": "stdout",
     "output_type": "stream",
     "text": [
      "<class 'numpy.ndarray'>\n",
      "[[224 149 181 181]]\n"
     ]
    }
   ],
   "source": [
    "import cv2\n",
    "detect=cv2.CascadeClassifier(\"C:\\\\Users\\\\naruk\\\\Downloads\\\\haarcascade_frontalface_default.xml\")\n",
    "img=cv2.imread(\"C:\\\\Users\\\\naruk\\\\OneDrive\\\\Pictures\\\\Camera Roll\\\\ammu.jpg\",1)\n",
    "face=detect.detectMultiScale(img,scaleFactor=1.25,minNeighbors=5)\n",
    "print(type(face))\n",
    "print(face)\n",
    "for (x,y,w,h) in face:\n",
    "    veer=cv2.rectangle(img,(x,y),(x+w,y+h),(0,255,0),2)\n",
    "cv2.imshow(\"legend\",veer)\n",
    "cv2.waitKey(0)\n",
    "cv2.destroyAllWindows()"
   ]
  },
  {
   "cell_type": "code",
   "execution_count": null,
   "metadata": {},
   "outputs": [],
   "source": []
  },
  {
   "cell_type": "code",
   "execution_count": null,
   "metadata": {},
   "outputs": [],
   "source": []
  }
 ],
 "metadata": {
  "kernelspec": {
   "display_name": "Python 3",
   "language": "python",
   "name": "python3"
  },
  "language_info": {
   "codemirror_mode": {
    "name": "ipython",
    "version": 3
   },
   "file_extension": ".py",
   "mimetype": "text/x-python",
   "name": "python",
   "nbconvert_exporter": "python",
   "pygments_lexer": "ipython3",
   "version": "3.7.3"
  }
 },
 "nbformat": 4,
 "nbformat_minor": 2
}
