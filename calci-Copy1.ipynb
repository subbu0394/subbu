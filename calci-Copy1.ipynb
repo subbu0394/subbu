{
 "cells": [
  {
   "cell_type": "markdown",
   "metadata": {},
   "source": [
    "# calci\n",
    "this is simple calci made using tkinter module"
   ]
  },
  {
   "cell_type": "code",
   "execution_count": 1,
   "metadata": {},
   "outputs": [],
   "source": [
    "from tkinter import *\n",
    "window=Tk()\n",
    "window.title(\"veer\")\n",
    "\n",
    "l1=Label(window,text=\"enter 1st number\")\n",
    "l1.pack()\n",
    "n1=Entry(window,width=10)\n",
    "n1.pack()\n",
    "l2=Label(window,text=\"enter second number\")\n",
    "l2.pack()\n",
    "n2=Entry(window,width=10)\n",
    "n2.pack()\n",
    "\n",
    "l3=Label(window,text=\"\")\n",
    "l3.pack()\n",
    "\n",
    "def click1():\n",
    "      num=int(n1.get())+int(n2.get())\n",
    "      l3.configure(text=\"your answer is =\"+str(num))\n",
    "      \n",
    "\n",
    "def click2():\n",
    "      num=int(n1.get())-int(n2.get())\n",
    "      l3.configure(text=\"your answer is =\"+str(num))\n",
    "def click3():\n",
    "      num=int(n1.get())*int(n2.get())\n",
    "      l3.configure(text=\"your answer is =\"+str(num))\n",
    "def click4():\n",
    "      num=int(n1.get())/int(n2.get())\n",
    "      l3.configure(text=\"your answer is =\"+str(num))\n",
    "\n",
    "  \n",
    "    \n",
    "bt1=Button(window,text=\"+\",command=click1).pack()\n",
    "bt2=Button(window,text=\"-\",command=click2).pack()\n",
    "bt3=Button(window,text=\"*\",command=click3).pack()\n",
    "bt4=Button(window,text=\"/\",command=click4).pack()\n",
    "window.geometry('600x600')\n",
    "\n",
    "\n",
    "\n",
    "window.mainloop()"
   ]
  },
  {
   "cell_type": "code",
   "execution_count": 8,
   "metadata": {},
   "outputs": [],
   "source": [
    "from tkinter import *\n",
    "window=Tk()\n",
    "window.title(\"veer\")\n",
    "l1=Label(window,text=\"enter 1st number\")\n",
    "l1.pack()\n",
    "n1=Entry(window,width=10)\n",
    "n1.pack()\n",
    "l2=Label(window,text=\"enter second number\")\n",
    "l2.pack()\n",
    "n2=Entry(window,width=10)\n",
    "n2.pack()\n",
    "l3=Label(window,text=\"\")\n",
    "l3.pack()\n",
    "def click1():\n",
    "    num=int(n1.get())+int(n2.get())\n",
    "    l3.configure(text=\"your answer is =\"+str(num))\n",
    "def click2():\n",
    "    num=int(n1.get())-int(n2.get())\n",
    "    l3.configure(text=\"your answer is =\"+str(num))\n",
    "def click3():\n",
    "    num=int(n1.get())*int(n2.get())\n",
    "    l3.configure(text=\"your answer is =\"+str(num))\n",
    "def click4():\n",
    "    num=int(n1.get())/int(n2.get())\n",
    "    l3.configure(text=\"your answer is =\"+str(num))\n",
    "\n",
    "bt1=Button(window,text=\"+\",command=click1).pack()\n",
    "bt2=Button(window,text=\"-\",command=click2).pack()\n",
    "bt3=Button(window,text=\"*\",command=click3).pack()\n",
    "bt4=Button(window,text=\"/\",command=click4).pack()\n",
    "window.geometry('600x600')\n",
    "window.mainloop()"
   ]
  },
  {
   "cell_type": "code",
   "execution_count": 48,
   "metadata": {},
   "outputs": [
    {
     "name": "stdout",
     "output_type": "stream",
     "text": [
      "invalid\n"
     ]
    }
   ],
   "source": [
    "try:\n",
    "    print(3/0)\n",
    "except Exception:\n",
    "    print(\"invalid\")"
   ]
  },
  {
   "cell_type": "code",
   "execution_count": null,
   "metadata": {},
   "outputs": [],
   "source": []
  }
 ],
 "metadata": {
  "kernelspec": {
   "display_name": "Python 3",
   "language": "python",
   "name": "python3"
  },
  "language_info": {
   "codemirror_mode": {
    "name": "ipython",
    "version": 3
   },
   "file_extension": ".py",
   "mimetype": "text/x-python",
   "name": "python",
   "nbconvert_exporter": "python",
   "pygments_lexer": "ipython3",
   "version": "3.7.3"
  }
 },
 "nbformat": 4,
 "nbformat_minor": 2
}
